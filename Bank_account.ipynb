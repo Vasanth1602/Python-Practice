{
  "nbformat": 4,
  "nbformat_minor": 0,
  "metadata": {
    "colab": {
      "provenance": [],
      "authorship_tag": "ABX9TyOzmNwrNUWgTeBlrzkLoGjF",
      "include_colab_link": true
    },
    "kernelspec": {
      "name": "python3",
      "display_name": "Python 3"
    },
    "language_info": {
      "name": "python"
    }
  },
  "cells": [
    {
      "cell_type": "markdown",
      "metadata": {
        "id": "view-in-github",
        "colab_type": "text"
      },
      "source": [
        "<a href=\"https://colab.research.google.com/github/Vasanth1602/Python-Practice/blob/main/Bank_account.ipynb\" target=\"_parent\"><img src=\"https://colab.research.google.com/assets/colab-badge.svg\" alt=\"Open In Colab\"/></a>"
      ]
    },
    {
      "cell_type": "markdown",
      "source": [
        "***Problem Description***\n",
        "\n",
        "You are given a Bank account having N amount and you are asked to perform ADD(credit) or SUBTRACT(debit) operation of an amount X.\n",
        "\n",
        "After the operation print the amount left in the Bank account. If the debit amount is greater than current balance print \"Insufficient Funds\"(without quotes) and the operation is skipped."
      ],
      "metadata": {
        "id": "LS_hjEbJqcsZ"
      }
    },
    {
      "cell_type": "code",
      "execution_count": 21,
      "metadata": {
        "colab": {
          "base_uri": "https://localhost:8080/"
        },
        "id": "85kL6-YPqSI9",
        "outputId": "090ced13-7e55-4cd3-d3c0-357ec46a255d"
      },
      "outputs": [
        {
          "output_type": "stream",
          "name": "stdout",
          "text": [
            "Enter the amount:5000\n",
            "Enter 'c' for credit and 'd' for debit:d\n",
            "Insufficient Funds\n",
            "Amount left in the account 1000\n"
          ]
        }
      ],
      "source": [
        "N = 1000\n",
        "X = int(input(\"Enter the amount:\"))\n",
        "action = input(\"Enter 'c' for credit and 'd' for debit:\")\n",
        "if action == 'd':\n",
        "  if X <= N:\n",
        "    Balance = N-X\n",
        "  else:\n",
        "    print(\"Insufficient Funds\")\n",
        "    Balance = N\n",
        "elif action == 'c':\n",
        "  Balance = N+X\n",
        "print(\"Amount left in the account\",Balance)"
      ]
    },
    {
      "cell_type": "code",
      "source": [],
      "metadata": {
        "id": "sVktV9Xuv6pJ"
      },
      "execution_count": null,
      "outputs": []
    }
  ]
}