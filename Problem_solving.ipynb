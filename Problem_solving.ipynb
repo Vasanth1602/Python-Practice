{
  "nbformat": 4,
  "nbformat_minor": 0,
  "metadata": {
    "colab": {
      "provenance": [],
      "authorship_tag": "ABX9TyNV08rFfpVir9MMmmabiN6t",
      "include_colab_link": true
    },
    "kernelspec": {
      "name": "python3",
      "display_name": "Python 3"
    },
    "language_info": {
      "name": "python"
    }
  },
  "cells": [
    {
      "cell_type": "markdown",
      "metadata": {
        "id": "view-in-github",
        "colab_type": "text"
      },
      "source": [
        "<a href=\"https://colab.research.google.com/github/Vasanth1602/Python-Practice/blob/main/Problem_solving.ipynb\" target=\"_parent\"><img src=\"https://colab.research.google.com/assets/colab-badge.svg\" alt=\"Open In Colab\"/></a>"
      ]
    },
    {
      "cell_type": "markdown",
      "source": [
        "Write a program to find sum all Natural numbers from 1 to N where you have to take N as input from user"
      ],
      "metadata": {
        "id": "kdRkYgBlcIdk"
      }
    },
    {
      "cell_type": "code",
      "execution_count": null,
      "metadata": {
        "colab": {
          "base_uri": "https://localhost:8080/"
        },
        "id": "QOcD_yOcZfX9",
        "outputId": "9573863c-3ef4-4a6e-c80c-b9b3675fe6ef"
      },
      "outputs": [
        {
          "output_type": "stream",
          "name": "stdout",
          "text": [
            "Enter a number:10\n",
            "55\n"
          ]
        }
      ],
      "source": [
        "N = int(input(\"Enter a number:\"))\n",
        "sum = N*(N+1)//2\n",
        "print(sum)"
      ]
    },
    {
      "cell_type": "code",
      "source": [
        "N = int(input(\"Enter a number:\"))\n",
        "s = 0\n",
        "for i in range(1,N+1):\n",
        "  s = s+i\n",
        "print(s)"
      ],
      "metadata": {
        "colab": {
          "base_uri": "https://localhost:8080/"
        },
        "id": "owbASADfaP47",
        "outputId": "7fea0628-ece8-4540-f0fe-6a52a982076e"
      },
      "execution_count": null,
      "outputs": [
        {
          "output_type": "stream",
          "name": "stdout",
          "text": [
            "Enter a number:10\n",
            "55\n"
          ]
        }
      ]
    },
    {
      "cell_type": "markdown",
      "source": [
        "Problem Description\n",
        "\n",
        "You are given 3 integer angles(in degrees) A, B and C of a triangle. You have to tell whether the triangle is valid or not.\n",
        "\n",
        "A triangle is valid if sum of its angles equals to 180."
      ],
      "metadata": {
        "id": "IsDDg1zdcGU6"
      }
    },
    {
      "cell_type": "code",
      "source": [
        "a= int(input(\"Enter the value : \"))\n",
        "b = int(input(\"Enter the value : \"))\n",
        "c= int(input(\"Enter the value : \"))\n",
        "\"Valid Traingle\" if a+b+c == 180 else \"not valid \""
      ],
      "metadata": {
        "colab": {
          "base_uri": "https://localhost:8080/",
          "height": 88
        },
        "id": "EE0xlGDCa0KV",
        "outputId": "9c9a8548-0ba2-42f9-8d55-5764e676927f"
      },
      "execution_count": null,
      "outputs": [
        {
          "name": "stdout",
          "output_type": "stream",
          "text": [
            "Enter the value : 12\n",
            "Enter the value : 3\n",
            "Enter the value : 1\n"
          ]
        },
        {
          "output_type": "execute_result",
          "data": {
            "text/plain": [
              "'not valid '"
            ],
            "application/vnd.google.colaboratory.intrinsic+json": {
              "type": "string"
            }
          },
          "metadata": {},
          "execution_count": 9
        }
      ]
    },
    {
      "cell_type": "code",
      "source": [],
      "metadata": {
        "id": "NhG0n03vdTcl"
      },
      "execution_count": null,
      "outputs": []
    }
  ]
}